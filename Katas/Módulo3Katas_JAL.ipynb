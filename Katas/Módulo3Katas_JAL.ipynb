{
 "cells": [
  {
   "cell_type": "markdown",
   "metadata": {},
   "source": [
    "<h1> Ejercicio Asteroide </h1>\n",
    "\n",
    "Para este ejercicio, escribirás una lógica condicional que imprima una advertencia si un asteroide se acerca a la Tierra demasiado rápido. La velocidad del asteroide varía dependiendo de lo cerca que esté del sol, y cualquier velocidad superior a 25 kilómetros por segundo (km/s) merece una advertencia."
   ]
  },
  {
   "cell_type": "code",
   "execution_count": 6,
   "metadata": {},
   "outputs": [
    {
     "name": "stdout",
     "output_type": "stream",
     "text": [
      "Alerta de asteroide\n"
     ]
    }
   ],
   "source": [
    "Velocidad = 49\n",
    "Limite = 25\n",
    "if Velocidad > Limite:\n",
    "    print(\"Alerta de asteroide peligroso\")\n",
    "else:\n",
    "    print(\"Todo sereno\")\n"
   ]
  },
  {
   "cell_type": "markdown",
   "metadata": {},
   "source": [
    "<h1> Asteroide con haz de luz </h1>\n",
    "Si un asteroide entra en la atmósfera de la Tierra a una velocidad mayor o igual a 20 km/s, a veces produce un rayo de luz que se puede ver desde la Tierra. Escribe la lógica condicional que usa declaraciones if, else, y elif para alertar a las personas de todo el mundo que deben buscar un asteroide en el cielo. ¡Hay uno que se dirige a la tierra ahora a una velocidad de 19 km/s!\n"
   ]
  },
  {
   "cell_type": "code",
   "execution_count": 27,
   "metadata": {},
   "outputs": [
    {
     "name": "stdout",
     "output_type": "stream",
     "text": [
      "Todo sereno\n"
     ]
    }
   ],
   "source": [
    "Velocidad = 19\n",
    "Limite = 20\n",
    "if Velocidad < Limite :\n",
    "    print(\"Todo sereno\")\n",
    "elif Velocidad > (Limite+5):\n",
    "    print(\"Alerta de asteroide peligroso\")\n",
    "else:\n",
    "    print(\"Mira al cielo y busca al asteroide\")"
   ]
  },
  {
   "cell_type": "markdown",
   "metadata": {},
   "source": [
    "<h1> Defensa de asteroides peligrosos </h1>\n",
    "Los asteroides de menos de 25 metros en su dimensión más grande probablemente se quemarán a medida que entren en la atmósfera de la Tierra.\n",
    "\n",
    "Si una pieza de un asteroide que es más grande que 25 metros pero más pequeña que 1000 metros golpeara la Tierra, causaría mucho daño.\n",
    "También discutimos en el ejercicio anterior que:\n",
    "\n",
    "La velocidad del asteroide varía en función de lo cerca que esté del sol, y cualquier velocidad superior a 25 kilómetros por segundo (km/s) merece una advertencia.\n",
    "Si un asteroide entra en la atmósfera de la Tierra a una velocidad mayor o igual a 20 km/s, a veces produce un rayo de luz que se puede ver desde la Tierra."
   ]
  },
  {
   "cell_type": "code",
   "execution_count": 57,
   "metadata": {},
   "outputs": [
    {
     "name": "stdout",
     "output_type": "stream",
     "text": [
      "¡Peligro! Asteroide peligroso de gran tamaño entrando a la tierra a gran velocidad, visible facilmente\n"
     ]
    }
   ],
   "source": [
    "Velocidad = 25\n",
    "Size = 40\n",
    "LimVelocidad = 25\n",
    "LimSize1 = 25\n",
    "LimSize2 =1000\n",
    "Impacto = True\n",
    "\n",
    "if Impacto == True:\n",
    "    if Size >= LimSize1 and Size <= LimSize2:\n",
    "        if Velocidad >= LimVelocidad and Velocidad >= (LimVelocidad - 5):\n",
    "            print(\"¡Peligro! Asteroide peligroso de gran tamaño entrando a la tierra a gran velocidad, visible facilmente\")\n",
    "        elif Velocidad < LimVelocidad and Velocidad >= (LimVelocidad - 5):\n",
    "            print(\"Asteroide peligroso de gran tamaño entrando a la atmosfera, visible facilmente\")\n",
    "        else: \n",
    "            print(\"Ateroide de gran tamaño entrando a la atmosfera, no visible\")\n",
    "    elif Size > LimSize2:\n",
    "            print(\"Ya llevanos Diosito\")\n",
    "    else:\n",
    "        if Velocidad >= LimVelocidad and Velocidad >= (LimVelocidad - 5):\n",
    "            print(\"¡Peligro! Asteroide de tamaño moderado entrando a la tierra a gran velocidad, visible facilmente\")\n",
    "        elif Velocidad < LimVelocidad and Velocidad >= (LimVelocidad - 5):\n",
    "            print(\"Asteroide de tamaño moderado entrando a la atmosfera, visible facilmente, disfrute el espectactulo en el cielo\")\n",
    "        else: \n",
    "            print(\"Ateroide de tamaño moderado entrando a la atmosfera, no visible\")\n",
    "else:\n",
    "    if Velocidad >= LimVelocidad and Velocidad >= (LimVelocidad - 5):\n",
    "        print(\"¡Peligro! Asteroide de tamaño moderado cerca de la tierra a gran velocidad, visible facilmente\")\n",
    "    elif Velocidad < LimVelocidad and Velocidad >= (LimVelocidad - 5):\n",
    "        print(\"Asteroide de tamaño moderado cerca de la tierra, visible facilmente, disfrute el espectactulo en el cielo\")\n",
    "    else: \n",
    "        print(\"Ateroide de tamaño moderado cerca de la tierra, no visible\")\n"
   ]
  }
 ],
 "metadata": {
  "interpreter": {
   "hash": "68e40be9af57bf4ede7fb1482c2f3c7bf4abf80aefc1f77c9078d3138217ecec"
  },
  "kernelspec": {
   "display_name": "Python 3.10.2 64-bit",
   "language": "python",
   "name": "python3"
  },
  "language_info": {
   "codemirror_mode": {
    "name": "ipython",
    "version": 3
   },
   "file_extension": ".py",
   "mimetype": "text/x-python",
   "name": "python",
   "nbconvert_exporter": "python",
   "pygments_lexer": "ipython3",
   "version": "3.10.2"
  },
  "orig_nbformat": 4
 },
 "nbformat": 4,
 "nbformat_minor": 2
}
