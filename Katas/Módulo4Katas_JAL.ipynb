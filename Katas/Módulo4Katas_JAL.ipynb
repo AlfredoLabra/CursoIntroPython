{
 "cells": [
  {
   "cell_type": "code",
   "execution_count": 36,
   "metadata": {},
   "outputs": [
    {
     "name": "stdout",
     "output_type": "stream",
     "text": [
      "The Moon has no atmosphere   \n",
      "Hey \n",
      "Temperatures And Facts About The Moon\n",
      "Facts about the Moon:\n",
      " There is no atmosphere.\n",
      " There is no sound.\n",
      "['Daylight:', '160', 'F', 'Nighttime:', '-280', 'F']\n",
      "['Daylight: 260 F', 'Nighttime: -280 F']\n"
     ]
    },
    {
     "data": {
      "text/plain": [
       "27"
      ]
     },
     "execution_count": 36,
     "metadata": {},
     "output_type": "execute_result"
    }
   ],
   "source": [
    "fact = \"\"\"The Moon has no atmosphere   \n",
    "... Hey \"\"\"\n",
    "fact + 'No sound can be heard on the Moon./n'\n",
    "print(fact)\n",
    "print('temperatures and facts about the moon'.title())\n",
    "\n",
    "multiline = \"\"\"Facts about the Moon:\n",
    "...  There is no atmosphere.\n",
    "...  There is no sound.\"\"\"\n",
    "print(multiline)\n",
    "\n",
    "temperatures = '''Daylight: 160 F\n",
    "... Nighttime: -280 F'''\n",
    "print(temperatures .split())\n",
    "\n",
    "\n",
    "temp = '''Daylight: 260 F\n",
    "... Nighttime: -280 F'''\n",
    "print(temp .split('\\n'))\n",
    "\n",
    "temperatures.find('-280')"
   ]
  },
  {
   "cell_type": "code",
   "execution_count": 99,
   "metadata": {},
   "outputs": [
    {
     "name": "stdout",
     "output_type": "stream",
     "text": [
      "On average, the Moon moves 4cm away from the Earth every year\n",
      "The highest daylight temperature of the Moon is 127 C.\n"
     ]
    }
   ],
   "source": [
    "# Divide el texto\n",
    "\n",
    "text = \"Interesting facts about the Moon. The Moon is Earth's only satellite. There are several interesting facts about the Moon and how it affects life here on Earth. On average, the Moon moves 4cm away from the Earth every year. This yearly drift is not significant enough to cause immediate effects on Earth. The highest daylight temperature of the Moon is 127 C.\"\n",
    "text_parts = text.split('. ')\n",
    "text_parts\n",
    "\n",
    "# Palabras clave\n",
    "key_words = [\"average\", \"temperature\", \"distance\"]\n",
    "\n",
    "# Ciclo for para recorrer la cadena\n",
    "for sentence in text_parts:\n",
    "    for key_word in key_words:\n",
    "        if key_word in sentence:\n",
    "            print(sentence)\n",
    "            break\n"
   ]
  },
  {
   "cell_type": "code",
   "execution_count": 101,
   "metadata": {},
   "outputs": [
    {
     "name": "stdout",
     "output_type": "stream",
     "text": [
      "Palabras clave\n",
      "['average', 'temperature', 'distance']\n",
      "Resultados\n",
      "On average, the Moon moves 4cm away from the Earth every year\n",
      "The highest daylight temperature of the Moon is 127 C.\n",
      "dog\n",
      "cat\n",
      "bow\n"
     ]
    }
   ],
   "source": [
    "Etiqueta = \"\"\"Interesting facts about the Moon. The Moon is Earth's only satellite. There are several interesting facts about the Moon and how it affects life here on Earth. On average, the Moon moves 4cm away from the Earth every year. This yearly drift is not significant enough to cause immediate effects on Earth. The highest daylight temperature of the Moon is 127 C.\"\"\"\n",
    "\n",
    "Sentencia = Etiqueta.split(\". \")\n",
    "\n",
    "# print(Sentencia)\n",
    "\n",
    "print(\"Palabras clave\")\n",
    "\n",
    "claves = ['average', 'temperature', 'distance']\n",
    "print(claves)\n",
    "print(\"Resultados\")\n",
    "for i in Sentencia:\n",
    "   for n in claves:\n",
    "       if n in i:\n",
    "                print(i)\n",
    "                break\n",
    "\n",
    "\n",
    "print(\"Ejercicio 2\")\n",
    "\n",
    "for i in Sentencia:\n",
    "   for n in claves:\n",
    "       if n in i:\n",
    "                print(i)\n",
    "                break\n",
    "\n",
    "\n",
    "\n"
   ]
  }
 ],
 "metadata": {
  "interpreter": {
   "hash": "68e40be9af57bf4ede7fb1482c2f3c7bf4abf80aefc1f77c9078d3138217ecec"
  },
  "kernelspec": {
   "display_name": "Python 3.10.2 64-bit",
   "language": "python",
   "name": "python3"
  },
  "language_info": {
   "codemirror_mode": {
    "name": "ipython",
    "version": 3
   },
   "file_extension": ".py",
   "mimetype": "text/x-python",
   "name": "python",
   "nbconvert_exporter": "python",
   "pygments_lexer": "ipython3",
   "version": "3.10.2"
  },
  "orig_nbformat": 4
 },
 "nbformat": 4,
 "nbformat_minor": 2
}
